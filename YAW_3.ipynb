{
 "cells": [
  {
   "cell_type": "code",
   "execution_count": 2,
   "metadata": {},
   "outputs": [],
   "source": [
    "import numpy as np\n",
    "import cv2\n",
    "import albumentations as A\n",
    "\n",
    "import torch\n",
    "import torch.nn as nn\n",
    "import torch.nn.functional as F\n",
    "\n",
    "import pandas as pd\n",
    "import os"
   ]
  },
  {
   "cell_type": "code",
   "execution_count": 3,
   "metadata": {},
   "outputs": [],
   "source": [
    "os.environ[\"CUDA_VISIBLE_DEVICES\"]=\"3\""
   ]
  },
  {
   "cell_type": "code",
   "execution_count": 4,
   "metadata": {},
   "outputs": [],
   "source": [
    "import torchvision\n",
    "import torchvision.models\n",
    "import torchvision.transforms as transforms"
   ]
  },
  {
   "cell_type": "code",
   "execution_count": 5,
   "metadata": {},
   "outputs": [],
   "source": [
    "import sklearn.metrics\n",
    "\n",
    "import tqdm\n",
    "import matplotlib.pyplot as plt\n",
    "from IPython.display import clear_output"
   ]
  },
  {
   "cell_type": "markdown",
   "metadata": {},
   "source": [
    "### Easy way to win Kaggle competetions"
   ]
  },
  {
   "cell_type": "code",
   "execution_count": 6,
   "metadata": {},
   "outputs": [],
   "source": [
    "submission = pd.read_csv(\"sample_submission.csv\")\n",
    "submission.label = submission.image_id.apply(lambda x: 0 if x[5:].split()[0][-1] == '6' else 1)\n",
    "submission.to_csv(\"leak.csv\", index=False)"
   ]
  },
  {
   "cell_type": "markdown",
   "metadata": {},
   "source": [
    "### Not easy way to win Kaggle competetions"
   ]
  },
  {
   "cell_type": "code",
   "execution_count": 7,
   "metadata": {},
   "outputs": [],
   "source": [
    "torch.cuda.empty_cache()"
   ]
  },
  {
   "cell_type": "code",
   "execution_count": 8,
   "metadata": {},
   "outputs": [],
   "source": [
    "DEVICE = \"cuda\"\n",
    "BATCH_SIZE = 8"
   ]
  },
  {
   "cell_type": "code",
   "execution_count": 9,
   "metadata": {},
   "outputs": [],
   "source": [
    "# dataset to prepare raw pictures\n",
    "def transform(image, dsize=(256, 256), split=\"train\"):\n",
    "    resized_image = cv2.resize(image, dsize)\n",
    "    torch_transform = transforms.Compose(\n",
    "        [transforms.ToTensor(), transforms.Normalize([0.485, 0.456, 0.406], [0.229, 0.224, 0.225])]\n",
    "    )\n",
    "    image = torch_transform(resized_image).numpy()\n",
    "\n",
    "    if split == \"train\":\n",
    "        transform = A.Compose([\n",
    "        A.HorizontalFlip(p=0.3),\n",
    "        A.RandomBrightness(p=0.3, limit=(-0.35, 0.35)),\n",
    "        A.RandomRotate90(p=0.3),\n",
    "        A.Blur(p=0.3, blur_limit=(3, 7)),\n",
    "        A.Cutout(p=0.3, num_holes=10, max_h_size=10, max_w_size=10)]\n",
    "        )\n",
    "\n",
    "        return torch.tensor(transform(image=image)[\"image\"]).float()\n",
    "    else:\n",
    "        return torch.tensor(image).float()\n",
    "\n",
    "\n",
    "class YAW_Dataset(torch.utils.data.Dataset):\n",
    "    def __init__(self, split=\"train\", transform=transform):\n",
    "        self.images = os.listdir(split)\n",
    "        self.transform = transform\n",
    "        self.split = split\n",
    "        if self.split == \"train\":\n",
    "            self.train_labels = pd.read_csv(\"train.csv\")\n",
    "\n",
    "    def get_image(self, path):\n",
    "        image = cv2.imread(self.split + \"/\" + path)\n",
    "        gray = cv2.cvtColor(image, cv2.COLOR_BGR2GRAY)\n",
    "        image = np.zeros_like(image)\n",
    "        for i in range(3):\n",
    "            image[:, :, i] = gray\n",
    "        if self.transform is not None:\n",
    "            image = self.transform(image, split=self.split)\n",
    "        return image.reshape(3, 256, 256).float()\n",
    "\n",
    "    def __getitem__(self, index):\n",
    "        assert(self.split in [\"train\", \"test\"])\n",
    "        if self.split == \"train\":\n",
    "            sample = self.train_labels.iloc[index, :]\n",
    "            image = self.get_image(sample.image_id[6:])\n",
    "            label = sample.label\n",
    "            return image, label\n",
    "        if self.split == \"test\":\n",
    "            image = self.get_image(self.images[index])\n",
    "            return image, self.images[index]\n",
    "\n",
    "    def __len__(self):\n",
    "        return len(self.images)"
   ]
  },
  {
   "cell_type": "code",
   "execution_count": 10,
   "metadata": {},
   "outputs": [],
   "source": [
    "train_dataset = YAW_Dataset(split=\"train\")"
   ]
  },
  {
   "cell_type": "code",
   "execution_count": 11,
   "metadata": {},
   "outputs": [],
   "source": [
    "# train-test split for validation purposes\n",
    "train, val = torch.utils.data.random_split(train_dataset,[len(train_dataset)-500, 500])\n",
    "\n",
    "full_loader = torch.utils.data.DataLoader(train_dataset, batch_size=BATCH_SIZE, shuffle=True)\n",
    "train_loader = torch.utils.data.DataLoader(train, batch_size=BATCH_SIZE, shuffle=True)\n",
    "val_loader = torch.utils.data.DataLoader(train, batch_size=BATCH_SIZE, shuffle=True)"
   ]
  },
  {
   "cell_type": "code",
   "execution_count": 12,
   "metadata": {},
   "outputs": [],
   "source": [
    "#  our model\n",
    "class ModelVGG(nn.Module):\n",
    "    def __init__(self, vgg_model):\n",
    "        super().__init__()\n",
    "        self.vgg = vgg_model\n",
    "\n",
    "        self.fc = nn.Linear(1000, 256)\n",
    "        self.fc_2 = nn.Linear(256, 1)\n",
    "\n",
    "        self.dropout = nn.Dropout(0.3)\n",
    "        \n",
    "    def forward(self, inputs):\n",
    "        x = F.relu(self.vgg(inputs))\n",
    "        x = F.relu(self.fc(self.dropout(x)))\n",
    "        x = self.fc_2(x)\n",
    "        \n",
    "        return torch.sigmoid(x)"
   ]
  },
  {
   "cell_type": "code",
   "execution_count": 13,
   "metadata": {},
   "outputs": [],
   "source": [
    "#  fine-tuning (or not) vgg (or not)\n",
    "vgg = torchvision.models.resnet101(pretrained=True)\n",
    "\n",
    "for i, pair in enumerate(vgg.named_children()):\n",
    "    _, child = pair\n",
    "    if len(list((vgg.named_children()))) - i > 4:\n",
    "        for _, params in child.named_parameters():\n",
    "            params.requires_grad = False"
   ]
  },
  {
   "cell_type": "code",
   "execution_count": 14,
   "metadata": {},
   "outputs": [],
   "source": [
    "model = ModelVGG(vgg).to(DEVICE)\n",
    "\n",
    "criterion = torch.nn.BCELoss()\n",
    "optimizer = torch.optim.Adam(model.parameters(), lr=0.0001)"
   ]
  },
  {
   "cell_type": "code",
   "execution_count": 15,
   "metadata": {
    "scrolled": false
   },
   "outputs": [
    {
     "data": {
      "image/png": "[encoded data removed]",
      "text/plain": [
       "<Figure size 864x576 with 2 Axes>"
      ]
     },
     "metadata": {
      "needs_background": "light"
     },
     "output_type": "display_data"
    }
   ],
   "source": [
    "# training (not performing training on full data here)\n",
    "loss_history = []\n",
    "acc_history = []\n",
    "loss_val_history = []\n",
    "acc_val_history = []\n",
    "\n",
    "max_loss = np.inf\n",
    "for epoch in range(35):\n",
    "    loss_accum = 0\n",
    "    acc_accum = 0\n",
    "    model.train()\n",
    "    for batch in tqdm.notebook.tqdm(train_loader):\n",
    "\n",
    "        images, labels = batch\n",
    "\n",
    "        optimizer.zero_grad()\n",
    "        output = model(images.to(DEVICE))\n",
    "        loss = criterion(output.cpu().flatten(), labels.float())\n",
    "        \n",
    "        loss.backward()\n",
    "        torch.nn.utils.clip_grad_norm_(model.parameters(), 1)\n",
    "        optimizer.step()\n",
    "        \n",
    "        loss_accum += loss.cpu().detach()/BATCH_SIZE\n",
    "        acc_accum += sklearn.metrics.accuracy_score(np.where(output.cpu().detach().numpy() < 0.5, 0, 1), labels)\n",
    "        \n",
    "    loss_history.append(loss_accum)\n",
    "    acc_history.append(acc_accum/len(train_loader))\n",
    "    loss_accum = 0\n",
    "    acc_accum = 0\n",
    "\n",
    "    for val_batch in tqdm.notebook.tqdm(val_loader):\n",
    "        images, labels = val_batch\n",
    "        output = model(images.to(DEVICE))\n",
    "        loss = criterion(output.cpu().flatten(), labels.float())\n",
    "\n",
    "        loss_accum += loss.cpu().detach()/BATCH_SIZE\n",
    "        acc_accum += sklearn.metrics.accuracy_score(np.where(output.cpu().detach().numpy() < 0.5, 0, 1), labels)\n",
    "\n",
    "    loss_val_history.append(loss_accum)\n",
    "    acc_val_history.append(acc_accum/len(val_loader))\n",
    "\n",
    "    clear_output(True)\n",
    "    fig, ax = plt.subplots(nrows=1, ncols=2, figsize=(12, 8))\n",
    "\n",
    "    ax[0].plot(loss_history, label='train loss')\n",
    "    ax[0].plot(loss_val_history, label='validation loss')\n",
    "    ax[0].set_ylabel('Loss')\n",
    "    ax[0].set_xlabel(f'Epoch')\n",
    "\n",
    "    ax[1].plot(acc_history, label='train')\n",
    "    ax[1].plot(acc_val_history, label='val')\n",
    "    ax[1].set_ylabel('Accuracy')\n",
    "    ax[1].set_xlabel(f'Epoch')\n",
    "\n",
    "    plt.legend()\n",
    "    plt.show()\n",
    "\n",
    "\n",
    "    if loss_val_history[-1] < max_loss:\n",
    "        max_loss = loss_val_history[-1]\n",
    "        torch.save(model.state_dict(), 'best_val_model.pt')\n",
    "    torch.save(model.state_dict(), 'best_val_model.pt')"
   ]
  },
  {
   "cell_type": "code",
   "execution_count": 16,
   "metadata": {},
   "outputs": [
    {
     "data": {
      "application/vnd.jupyter.widget-view+json": {
       "model_id": "f1853d2376ea4aab856f355498170120",
       "version_major": 2,
       "version_minor": 0
      },
      "text/plain": [
       "HBox(children=(HTML(value=''), FloatProgress(value=0.0, max=656.0), HTML(value='')))"
      ]
     },
     "metadata": {},
     "output_type": "display_data"
    },
    {
     "name": "stdout",
     "output_type": "stream",
     "text": [
      "\n"
     ]
    },
    {
     "data": {
      "application/vnd.jupyter.widget-view+json": {
       "model_id": "de1604ad16fb48109939b367c6249c30",
       "version_major": 2,
       "version_minor": 0
      },
      "text/plain": [
       "HBox(children=(HTML(value=''), FloatProgress(value=0.0, max=656.0), HTML(value='')))"
      ]
     },
     "metadata": {},
     "output_type": "display_data"
    },
    {
     "name": "stdout",
     "output_type": "stream",
     "text": [
      "\n"
     ]
    },
    {
     "data": {
      "application/vnd.jupyter.widget-view+json": {
       "model_id": "82c68e66682341cca2cb231fa78d321f",
       "version_major": 2,
       "version_minor": 0
      },
      "text/plain": [
       "HBox(children=(HTML(value=''), FloatProgress(value=0.0, max=656.0), HTML(value='')))"
      ]
     },
     "metadata": {},
     "output_type": "display_data"
    },
    {
     "name": "stdout",
     "output_type": "stream",
     "text": [
      "\n"
     ]
    },
    {
     "data": {
      "application/vnd.jupyter.widget-view+json": {
       "model_id": "e08aaf5f3dc74841992dc423a9e02a74",
       "version_major": 2,
       "version_minor": 0
      },
      "text/plain": [
       "HBox(children=(HTML(value=''), FloatProgress(value=0.0, max=656.0), HTML(value='')))"
      ]
     },
     "metadata": {},
     "output_type": "display_data"
    },
    {
     "name": "stdout",
     "output_type": "stream",
     "text": [
      "\n"
     ]
    },
    {
     "data": {
      "application/vnd.jupyter.widget-view+json": {
       "model_id": "a98b94ecac774215a291d5d1beba383f",
       "version_major": 2,
       "version_minor": 0
      },
      "text/plain": [
       "HBox(children=(HTML(value=''), FloatProgress(value=0.0, max=656.0), HTML(value='')))"
      ]
     },
     "metadata": {},
     "output_type": "display_data"
    },
    {
     "name": "stdout",
     "output_type": "stream",
     "text": [
      "\n"
     ]
    },
    {
     "data": {
      "application/vnd.jupyter.widget-view+json": {
       "model_id": "468609b0cda84ec29dcd100d99307329",
       "version_major": 2,
       "version_minor": 0
      },
      "text/plain": [
       "HBox(children=(HTML(value=''), FloatProgress(value=0.0, max=656.0), HTML(value='')))"
      ]
     },
     "metadata": {},
     "output_type": "display_data"
    },
    {
     "name": "stdout",
     "output_type": "stream",
     "text": [
      "\n"
     ]
    },
    {
     "data": {
      "application/vnd.jupyter.widget-view+json": {
       "model_id": "338b2e6d312a4794a9ad81825035810b",
       "version_major": 2,
       "version_minor": 0
      },
      "text/plain": [
       "HBox(children=(HTML(value=''), FloatProgress(value=0.0, max=656.0), HTML(value='')))"
      ]
     },
     "metadata": {},
     "output_type": "display_data"
    },
    {
     "name": "stdout",
     "output_type": "stream",
     "text": [
      "\n"
     ]
    },
    {
     "data": {
      "application/vnd.jupyter.widget-view+json": {
       "model_id": "9fc977ff83ec417dad682df6db47e784",
       "version_major": 2,
       "version_minor": 0
      },
      "text/plain": [
       "HBox(children=(HTML(value=''), FloatProgress(value=0.0, max=656.0), HTML(value='')))"
      ]
     },
     "metadata": {},
     "output_type": "display_data"
    },
    {
     "name": "stdout",
     "output_type": "stream",
     "text": [
      "\n"
     ]
    },
    {
     "data": {
      "application/vnd.jupyter.widget-view+json": {
       "model_id": "9fc8c6c55e8641e884cbde1dcead5b0c",
       "version_major": 2,
       "version_minor": 0
      },
      "text/plain": [
       "HBox(children=(HTML(value=''), FloatProgress(value=0.0, max=656.0), HTML(value='')))"
      ]
     },
     "metadata": {},
     "output_type": "display_data"
    },
    {
     "name": "stdout",
     "output_type": "stream",
     "text": [
      "\n"
     ]
    },
    {
     "data": {
      "application/vnd.jupyter.widget-view+json": {
       "model_id": "e7528b5ad1254e3f8fa2f2bba0ad914d",
       "version_major": 2,
       "version_minor": 0
      },
      "text/plain": [
       "HBox(children=(HTML(value=''), FloatProgress(value=0.0, max=656.0), HTML(value='')))"
      ]
     },
     "metadata": {},
     "output_type": "display_data"
    },
    {
     "name": "stdout",
     "output_type": "stream",
     "text": [
      "\n"
     ]
    }
   ],
   "source": [
    "model.load_state_dict(torch.load('best_val_model.pt'))\n",
    "for epoch in range(10):\n",
    "    model.train()\n",
    "    for batch in tqdm.notebook.tqdm(full_loader):\n",
    "\n",
    "        images, labels = batch\n",
    "\n",
    "        optimizer.zero_grad()\n",
    "        output = model(images.to(DEVICE))\n",
    "        loss = criterion(output.cpu().flatten(), labels.float())\n",
    "        \n",
    "        loss.backward()\n",
    "        torch.nn.utils.clip_grad_norm_(model.parameters(), 1)\n",
    "        optimizer.step()\n",
    "                "
   ]
  },
  {
   "cell_type": "code",
   "execution_count": 17,
   "metadata": {},
   "outputs": [],
   "source": [
    "torch.cuda.empty_cache()"
   ]
  },
  {
   "cell_type": "code",
   "execution_count": 18,
   "metadata": {},
   "outputs": [],
   "source": [
    "test_dataset = YAW_Dataset(split=\"test\")\n",
    "test_test = torch.utils.data.DataLoader(test_dataset, batch_size=BATCH_SIZE, shuffle=False)"
   ]
  },
  {
   "cell_type": "code",
   "execution_count": 19,
   "metadata": {},
   "outputs": [
    {
     "name": "stderr",
     "output_type": "stream",
     "text": [
      "100%|██████████| 368/368 [00:11<00:00, 31.65it/s]\n"
     ]
    }
   ],
   "source": [
    "# model.to(\"cpu\")\n",
    "model.eval()\n",
    "labels = []\n",
    "for batch in tqdm.tqdm(test_test):\n",
    "    images, path_name = batch\n",
    "    output = model(images.to(DEVICE))\n",
    "\n",
    "    labels.extend(zip(path_name, list(map(lambda x: x[0], np.where(output.cpu().detach().numpy() < 0.5, 0, 1).tolist()))))"
   ]
  },
  {
   "cell_type": "code",
   "execution_count": 20,
   "metadata": {},
   "outputs": [],
   "source": [
    "submission = pd.DataFrame(labels, columns=[\"image_id\", \"label\"])\n",
    "submission.image_id = submission.image_id.apply(lambda x: \"test\\\\\" + x)"
   ]
  },
  {
   "cell_type": "code",
   "execution_count": 21,
   "metadata": {},
   "outputs": [
    {
     "data": {
      "text/html": [
       "<div>\n",
       "<style scoped>\n",
       "    .dataframe tbody tr th:only-of-type {\n",
       "        vertical-align: middle;\n",
       "    }\n",
       "\n",
       "    .dataframe tbody tr th {\n",
       "        vertical-align: top;\n",
       "    }\n",
       "\n",
       "    .dataframe thead th {\n",
       "        text-align: right;\n",
       "    }\n",
       "</style>\n",
       "<table border=\"1\" class=\"dataframe\">\n",
       "  <thead>\n",
       "    <tr style=\"text-align: right;\">\n",
       "      <th></th>\n",
       "      <th>image_id</th>\n",
       "      <th>label</th>\n",
       "    </tr>\n",
       "  </thead>\n",
       "  <tbody>\n",
       "    <tr>\n",
       "      <th>0</th>\n",
       "      <td>test\\123456 (3916).jpg</td>\n",
       "      <td>1</td>\n",
       "    </tr>\n",
       "    <tr>\n",
       "      <th>1</th>\n",
       "      <td>test\\123456 (1181).jpg</td>\n",
       "      <td>1</td>\n",
       "    </tr>\n",
       "    <tr>\n",
       "      <th>2</th>\n",
       "      <td>test\\1234567 (109).jpg</td>\n",
       "      <td>1</td>\n",
       "    </tr>\n",
       "    <tr>\n",
       "      <th>3</th>\n",
       "      <td>test\\1234567 (334).jpg</td>\n",
       "      <td>0</td>\n",
       "    </tr>\n",
       "    <tr>\n",
       "      <th>4</th>\n",
       "      <td>test\\1234567 (763).jpg</td>\n",
       "      <td>1</td>\n",
       "    </tr>\n",
       "  </tbody>\n",
       "</table>\n",
       "</div>"
      ],
      "text/plain": [
       "                 image_id  label\n",
       "0  test\\123456 (3916).jpg      1\n",
       "1  test\\123456 (1181).jpg      1\n",
       "2  test\\1234567 (109).jpg      1\n",
       "3  test\\1234567 (334).jpg      0\n",
       "4  test\\1234567 (763).jpg      1"
      ]
     },
     "execution_count": 21,
     "metadata": {},
     "output_type": "execute_result"
    }
   ],
   "source": [
    "submission.head()"
   ]
  },
  {
   "cell_type": "code",
   "execution_count": 22,
   "metadata": {},
   "outputs": [],
   "source": [
    "submission.to_csv(\"new_submission.csv\", index=False)"
   ]
  },
  {
   "cell_type": "code",
   "execution_count": null,
   "metadata": {},
   "outputs": [],
   "source": []
  }
 ],
 "metadata": {
  "kernelspec": {
   "display_name": "Python 3",
   "language": "python",
   "name": "python3"
  },
  "language_info": {
   "codemirror_mode": {
    "name": "ipython",
    "version": 3
   },
   "file_extension": ".py",
   "mimetype": "text/x-python",
   "name": "python",
   "nbconvert_exporter": "python",
   "pygments_lexer": "ipython3",
   "version": "3.8.5"
  }
 },
 "nbformat": 4,
 "nbformat_minor": 2
}
